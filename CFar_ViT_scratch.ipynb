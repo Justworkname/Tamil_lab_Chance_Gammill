{
  "nbformat": 4,
  "nbformat_minor": 0,
  "metadata": {
    "colab": {
      "provenance": [],
      "authorship_tag": "ABX9TyPendmCelmKi93b6s2R9QKA",
      "include_colab_link": true
    },
    "kernelspec": {
      "name": "python3",
      "display_name": "Python 3"
    },
    "language_info": {
      "name": "python"
    }
  },
  "cells": [
    {
      "cell_type": "markdown",
      "metadata": {
        "id": "view-in-github",
        "colab_type": "text"
      },
      "source": [
        "<a href=\"https://colab.research.google.com/github/Justworkname/Tamil_lab_Chance_Gammill/blob/main/CFar_ViT_scratch.ipynb\" target=\"_parent\"><img src=\"https://colab.research.google.com/assets/colab-badge.svg\" alt=\"Open In Colab\"/></a>"
      ]
    },
    {
      "cell_type": "markdown",
      "source": [
        "# Vit CFar"
      ],
      "metadata": {
        "id": "2FXqCrADCQqL"
      }
    },
    {
      "cell_type": "markdown",
      "source": [
        "## Import"
      ],
      "metadata": {
        "id": "kJDbBqU4CYB6"
      }
    },
    {
      "cell_type": "code",
      "source": [
        "!pip install -q torchinfo"
      ],
      "metadata": {
        "id": "SU7I7A8aCP6O"
      },
      "execution_count": 7,
      "outputs": []
    },
    {
      "cell_type": "code",
      "execution_count": 143,
      "metadata": {
        "colab": {
          "base_uri": "https://localhost:8080/"
        },
        "id": "fJmY9sjBAnFU",
        "outputId": "e54e7fe4-0b3d-4f89-d99f-16feb906db23"
      },
      "outputs": [
        {
          "output_type": "stream",
          "name": "stdout",
          "text": [
            "torch version: 2.0.1+cu118\n",
            "torchvision version: 0.15.2+cu118\n"
          ]
        }
      ],
      "source": [
        "import torch\n",
        "import torchvision\n",
        "import torch.optim as optim\n",
        "import matplotlib.pyplot as plt\n",
        "from torch import nn\n",
        "from torchvision import datasets, transforms\n",
        "from torchvision.datasets.folder import has_file_allowed_extension\n",
        "print(f\"torch version: {torch.__version__}\")\n",
        "print(f\"torchvision version: {torchvision.__version__}\")\n",
        "from torchinfo import summary\n",
        "\n",
        "# Try to import the going_modular directory, download it from GitHub if it doesn't work\n",
        "try:\n",
        "    from going_modular.going_modular import data_setup, engine\n",
        "    from helper_functions import download_data, set_seeds, plot_loss_curves\n",
        "except:\n",
        "    # Get the going_modular scripts\n",
        "    print(\"[INFO] Couldn't find going_modular or helper_functions scripts... downloading them from GitHub.\")\n",
        "    !git clone https://github.com/mrdbourke/pytorch-deep-learning\n",
        "    !mv pytorch-deep-learning/going_modular .\n",
        "    !mv pytorch-deep-learning/helper_functions.py . # get the helper_functions.py script\n",
        "    !rm -rf pytorch-deep-learning\n",
        "    from going_modular.going_modular import data_setup, engine\n",
        "    from helper_functions import download_data, set_seeds, plot_loss_curves"
      ]
    },
    {
      "cell_type": "code",
      "source": [
        "device = \"cuda\" if torch.cuda.is_available() else \"cpu\"\n",
        "device"
      ],
      "metadata": {
        "colab": {
          "base_uri": "https://localhost:8080/",
          "height": 35
        },
        "id": "ogo31qxDCwen",
        "outputId": "06e22a96-92f3-413e-acae-f4013ef06916"
      },
      "execution_count": 10,
      "outputs": [
        {
          "output_type": "execute_result",
          "data": {
            "text/plain": [
              "'cpu'"
            ],
            "application/vnd.google.colaboratory.intrinsic+json": {
              "type": "string"
            }
          },
          "metadata": {},
          "execution_count": 10
        }
      ]
    },
    {
      "cell_type": "markdown",
      "source": [
        "## Hyper parameters"
      ],
      "metadata": {
        "id": "r7jJb2tNDSyW"
      }
    },
    {
      "cell_type": "code",
      "source": [
        "num_epochs=50\n",
        "batch_size=5\n",
        "img_size=32\n",
        "in_channels=3 #RGB\n",
        "patch_size=4\n",
        "embedding_dim=patch_size**2*3 ## just realized i did not account for teh RGB values on the other one and I am going to be annoyed with my self if that was the issue\n",
        "head=12\n",
        "dropout=0.1\n",
        "hidden_size=192\n",
        "layers = 8\n",
        "num_classes=10 # will be over written in data phase"
      ],
      "metadata": {
        "id": "9y42NAX7DVfL"
      },
      "execution_count": 157,
      "outputs": []
    },
    {
      "cell_type": "markdown",
      "source": [
        "## Data"
      ],
      "metadata": {
        "id": "iDQTrtAnDGvc"
      }
    },
    {
      "cell_type": "markdown",
      "source": [
        "Transform"
      ],
      "metadata": {
        "id": "QM6qcmbDD3g5"
      }
    },
    {
      "cell_type": "code",
      "source": [
        "transform = transforms.Compose([\n",
        "    transforms.Resize((img_size, img_size)),\n",
        "    transforms.ToTensor(),\n",
        "])"
      ],
      "metadata": {
        "id": "WE2gdMq7D2LS"
      },
      "execution_count": 158,
      "outputs": []
    },
    {
      "cell_type": "markdown",
      "source": [
        "Load"
      ],
      "metadata": {
        "id": "H7ZlgpUwDhPh"
      }
    },
    {
      "cell_type": "code",
      "source": [
        "train_dataset = datasets.CIFAR10(root='./data', train=True, transform=transform, download=True)\n",
        "test_dataset = datasets.CIFAR10(root='./data', train=False, transform=transform, download=True)\n",
        "\n",
        "train_loader = torch.utils.data.DataLoader(train_dataset, batch_size=batch_size, shuffle=True)\n",
        "test_loader = torch.utils.data.DataLoader(test_dataset, batch_size=batch_size, shuffle=False)\n",
        "\n",
        "class_names = train_dataset.classes\n",
        "num_classes=len(class_names)\n",
        "train_loader, test_loader,class_names"
      ],
      "metadata": {
        "colab": {
          "base_uri": "https://localhost:8080/"
        },
        "id": "I1-aVu8fBQQ8",
        "outputId": "f7f74810-e763-43b4-9f15-774137e43083"
      },
      "execution_count": 159,
      "outputs": [
        {
          "output_type": "stream",
          "name": "stdout",
          "text": [
            "Files already downloaded and verified\n",
            "Files already downloaded and verified\n"
          ]
        },
        {
          "output_type": "execute_result",
          "data": {
            "text/plain": [
              "(<torch.utils.data.dataloader.DataLoader at 0x7da1e0318f70>,\n",
              " <torch.utils.data.dataloader.DataLoader at 0x7da1e031b100>,\n",
              " ['airplane',\n",
              "  'automobile',\n",
              "  'bird',\n",
              "  'cat',\n",
              "  'deer',\n",
              "  'dog',\n",
              "  'frog',\n",
              "  'horse',\n",
              "  'ship',\n",
              "  'truck'])"
            ]
          },
          "metadata": {},
          "execution_count": 159
        }
      ]
    },
    {
      "cell_type": "markdown",
      "source": [
        "Visualize Image"
      ],
      "metadata": {
        "id": "l3ZRUn9tFHlx"
      }
    },
    {
      "cell_type": "code",
      "source": [
        "image_batch, label_batch = next(iter(train_loader))\n",
        "\n",
        "image, label = image_batch[0], label_batch[0]\n",
        "\n",
        "image.shape, label"
      ],
      "metadata": {
        "colab": {
          "base_uri": "https://localhost:8080/"
        },
        "id": "12gHJ6lTDjFy",
        "outputId": "e2a772c5-77c7-40b0-a4c5-73308f403a0a"
      },
      "execution_count": 160,
      "outputs": [
        {
          "output_type": "execute_result",
          "data": {
            "text/plain": [
              "(torch.Size([3, 32, 32]), tensor(6))"
            ]
          },
          "metadata": {},
          "execution_count": 160
        }
      ]
    },
    {
      "cell_type": "code",
      "source": [
        "plt.imshow(image.permute(1, 2, 0))\n",
        "plt.title(class_names[label])\n",
        "plt.axis(False);"
      ],
      "metadata": {
        "colab": {
          "base_uri": "https://localhost:8080/",
          "height": 54
        },
        "id": "vUua2YzOFDyN",
        "outputId": "ca94a953-7ec7-473e-eba8-133132ae2dcc"
      },
      "execution_count": 161,
      "outputs": [
        {
          "output_type": "display_data",
          "data": {
            "text/plain": [
              "<Figure size 640x480 with 1 Axes>"
            ],
            "image/png": "[encoded data removed]"
          },
          "metadata": {}
        }
      ]
    },
    {
      "cell_type": "markdown",
      "source": [
        "## Patch embeding layer"
      ],
      "metadata": {
        "id": "3KOwBjFOGpix"
      }
    },
    {
      "cell_type": "code",
      "source": [
        "class PatchEmbedding(nn.Module):\n",
        "    def __init__(self,\n",
        "                 in_channels=in_channels,\n",
        "                 patch_size=patch_size,\n",
        "                 embedding_dim=embedding_dim):\n",
        "        super().__init__()\n",
        "\n",
        "        self.patch_size = patch_size\n",
        "\n",
        "        self.patcher = nn.Conv2d(in_channels=in_channels,\n",
        "                                 out_channels=embedding_dim,\n",
        "                                 kernel_size=patch_size,  # Corrected typo from kernels_size to kernel_size\n",
        "                                 stride=patch_size,\n",
        "                                 padding=0)\n",
        "\n",
        "        self.flatten = nn.Flatten(start_dim=2, end_dim=3)\n",
        "\n",
        "    def forward(self,x):\n",
        "        image_resolution = x.shape[-1]\n",
        "\n",
        "        x_patched =self.patcher(x)\n",
        "        x_flattened= self.flatten(x_patched)\n",
        "\n",
        "        return x_flattened.permute(0,2,1)"
      ],
      "metadata": {
        "id": "X4DKUPQQHNxB"
      },
      "execution_count": 125,
      "outputs": []
    },
    {
      "cell_type": "markdown",
      "source": [
        "## Transformer Encoder Layer"
      ],
      "metadata": {
        "id": "N5vbOrJiNDwj"
      }
    },
    {
      "cell_type": "code",
      "source": [
        "transformer_encoder_layer = nn.TransformerEncoderLayer(d_model=embedding_dim,\n",
        "                                                       nhead=head,\n",
        "                                                       dim_feedforward=hidden_size,\n",
        "                                                       dropout=dropout,\n",
        "                                                       activation=\"gelu\",\n",
        "                                                       batch_first=True,\n",
        "                                                       norm_first=True)\n",
        "transformer_encoder_layer\n"
      ],
      "metadata": {
        "colab": {
          "base_uri": "https://localhost:8080/"
        },
        "id": "xyTnDq1VLaD4",
        "outputId": "a4f05a0d-cd47-41cd-af97-aba17b6d7e78"
      },
      "execution_count": 91,
      "outputs": [
        {
          "output_type": "execute_result",
          "data": {
            "text/plain": [
              "TransformerEncoderLayer(\n",
              "  (self_attn): MultiheadAttention(\n",
              "    (out_proj): NonDynamicallyQuantizableLinear(in_features=48, out_features=48, bias=True)\n",
              "  )\n",
              "  (linear1): Linear(in_features=48, out_features=192, bias=True)\n",
              "  (dropout): Dropout(p=0.1, inplace=False)\n",
              "  (linear2): Linear(in_features=192, out_features=48, bias=True)\n",
              "  (norm1): LayerNorm((48,), eps=1e-05, elementwise_affine=True)\n",
              "  (norm2): LayerNorm((48,), eps=1e-05, elementwise_affine=True)\n",
              "  (dropout1): Dropout(p=0.1, inplace=False)\n",
              "  (dropout2): Dropout(p=0.1, inplace=False)\n",
              ")"
            ]
          },
          "metadata": {},
          "execution_count": 91
        }
      ]
    },
    {
      "cell_type": "markdown",
      "source": [
        "Display Model"
      ],
      "metadata": {
        "id": "iBeZdG7iPoM3"
      }
    },
    {
      "cell_type": "code",
      "source": [
        "summary(model=transformer_encoder_layer,\n",
        "        input_size=patch_embedding_output.shape)"
      ],
      "metadata": {
        "colab": {
          "base_uri": "https://localhost:8080/"
        },
        "id": "xELgmGkONfs1",
        "outputId": "0f2d2dd0-5a69-4e1c-fa8c-b2b887125cfc"
      },
      "execution_count": 92,
      "outputs": [
        {
          "output_type": "execute_result",
          "data": {
            "text/plain": [
              "==========================================================================================\n",
              "Layer (type:depth-idx)                   Output Shape              Param #\n",
              "==========================================================================================\n",
              "TransformerEncoderLayer                  [5, 64, 48]               28,272\n",
              "==========================================================================================\n",
              "Total params: 28,272\n",
              "Trainable params: 28,272\n",
              "Non-trainable params: 0\n",
              "Total mult-adds (M): 0\n",
              "==========================================================================================\n",
              "Input size (MB): 0.06\n",
              "Forward/backward pass size (MB): 0.00\n",
              "Params size (MB): 0.00\n",
              "Estimated Total Size (MB): 0.06\n",
              "=========================================================================================="
            ]
          },
          "metadata": {},
          "execution_count": 92
        }
      ]
    },
    {
      "cell_type": "markdown",
      "source": [
        "## Stack Transformer Encoder"
      ],
      "metadata": {
        "id": "NiL_yNSdPsg8"
      }
    },
    {
      "cell_type": "code",
      "source": [
        "transformer_encoder = nn.TransformerEncoder(\n",
        "    encoder_layer=transformer_encoder_layer,\n",
        "    num_layers=layers)\n"
      ],
      "metadata": {
        "id": "uAn5mtzFPVFX"
      },
      "execution_count": 89,
      "outputs": []
    },
    {
      "cell_type": "code",
      "source": [
        "summary(model=transformer_encoder)"
      ],
      "metadata": {
        "colab": {
          "base_uri": "https://localhost:8080/"
        },
        "id": "MH_IXS-EQdEG",
        "outputId": "7ecfd54b-837d-46f6-9729-e85ddc0de199"
      },
      "execution_count": 122,
      "outputs": [
        {
          "output_type": "execute_result",
          "data": {
            "text/plain": [
              "=====================================================================================\n",
              "Layer (type:depth-idx)                                       Param #\n",
              "=====================================================================================\n",
              "TransformerEncoder                                           --\n",
              "├─ModuleList: 1-1                                            --\n",
              "│    └─TransformerEncoderLayer: 2-1                          --\n",
              "│    │    └─MultiheadAttention: 3-1                          9,408\n",
              "│    │    └─Linear: 3-2                                      9,408\n",
              "│    │    └─Dropout: 3-3                                     --\n",
              "│    │    └─Linear: 3-4                                      9,264\n",
              "│    │    └─LayerNorm: 3-5                                   96\n",
              "│    │    └─LayerNorm: 3-6                                   96\n",
              "│    │    └─Dropout: 3-7                                     --\n",
              "│    │    └─Dropout: 3-8                                     --\n",
              "│    └─TransformerEncoderLayer: 2-2                          --\n",
              "│    │    └─MultiheadAttention: 3-9                          9,408\n",
              "│    │    └─Linear: 3-10                                     9,408\n",
              "│    │    └─Dropout: 3-11                                    --\n",
              "│    │    └─Linear: 3-12                                     9,264\n",
              "│    │    └─LayerNorm: 3-13                                  96\n",
              "│    │    └─LayerNorm: 3-14                                  96\n",
              "│    │    └─Dropout: 3-15                                    --\n",
              "│    │    └─Dropout: 3-16                                    --\n",
              "│    └─TransformerEncoderLayer: 2-3                          --\n",
              "│    │    └─MultiheadAttention: 3-17                         9,408\n",
              "│    │    └─Linear: 3-18                                     9,408\n",
              "│    │    └─Dropout: 3-19                                    --\n",
              "│    │    └─Linear: 3-20                                     9,264\n",
              "│    │    └─LayerNorm: 3-21                                  96\n",
              "│    │    └─LayerNorm: 3-22                                  96\n",
              "│    │    └─Dropout: 3-23                                    --\n",
              "│    │    └─Dropout: 3-24                                    --\n",
              "│    └─TransformerEncoderLayer: 2-4                          --\n",
              "│    │    └─MultiheadAttention: 3-25                         9,408\n",
              "│    │    └─Linear: 3-26                                     9,408\n",
              "│    │    └─Dropout: 3-27                                    --\n",
              "│    │    └─Linear: 3-28                                     9,264\n",
              "│    │    └─LayerNorm: 3-29                                  96\n",
              "│    │    └─LayerNorm: 3-30                                  96\n",
              "│    │    └─Dropout: 3-31                                    --\n",
              "│    │    └─Dropout: 3-32                                    --\n",
              "│    └─TransformerEncoderLayer: 2-5                          --\n",
              "│    │    └─MultiheadAttention: 3-33                         9,408\n",
              "│    │    └─Linear: 3-34                                     9,408\n",
              "│    │    └─Dropout: 3-35                                    --\n",
              "│    │    └─Linear: 3-36                                     9,264\n",
              "│    │    └─LayerNorm: 3-37                                  96\n",
              "│    │    └─LayerNorm: 3-38                                  96\n",
              "│    │    └─Dropout: 3-39                                    --\n",
              "│    │    └─Dropout: 3-40                                    --\n",
              "│    └─TransformerEncoderLayer: 2-6                          --\n",
              "│    │    └─MultiheadAttention: 3-41                         9,408\n",
              "│    │    └─Linear: 3-42                                     9,408\n",
              "│    │    └─Dropout: 3-43                                    --\n",
              "│    │    └─Linear: 3-44                                     9,264\n",
              "│    │    └─LayerNorm: 3-45                                  96\n",
              "│    │    └─LayerNorm: 3-46                                  96\n",
              "│    │    └─Dropout: 3-47                                    --\n",
              "│    │    └─Dropout: 3-48                                    --\n",
              "│    └─TransformerEncoderLayer: 2-7                          --\n",
              "│    │    └─MultiheadAttention: 3-49                         9,408\n",
              "│    │    └─Linear: 3-50                                     9,408\n",
              "│    │    └─Dropout: 3-51                                    --\n",
              "│    │    └─Linear: 3-52                                     9,264\n",
              "│    │    └─LayerNorm: 3-53                                  96\n",
              "│    │    └─LayerNorm: 3-54                                  96\n",
              "│    │    └─Dropout: 3-55                                    --\n",
              "│    │    └─Dropout: 3-56                                    --\n",
              "│    └─TransformerEncoderLayer: 2-8                          --\n",
              "│    │    └─MultiheadAttention: 3-57                         9,408\n",
              "│    │    └─Linear: 3-58                                     9,408\n",
              "│    │    └─Dropout: 3-59                                    --\n",
              "│    │    └─Linear: 3-60                                     9,264\n",
              "│    │    └─LayerNorm: 3-61                                  96\n",
              "│    │    └─LayerNorm: 3-62                                  96\n",
              "│    │    └─Dropout: 3-63                                    --\n",
              "│    │    └─Dropout: 3-64                                    --\n",
              "=====================================================================================\n",
              "Total params: 226,176\n",
              "Trainable params: 226,176\n",
              "Non-trainable params: 0\n",
              "====================================================================================="
            ]
          },
          "metadata": {},
          "execution_count": 122
        }
      ]
    },
    {
      "cell_type": "markdown",
      "source": [
        "## ViT"
      ],
      "metadata": {
        "id": "c2Ypw4K4Q-1e"
      }
    },
    {
      "cell_type": "code",
      "source": [
        "class ViT(nn.Module):\n",
        "    def __init__(self,\n",
        "                 img_size=img_size,\n",
        "                 in_channels=in_channels,\n",
        "                 patch_size=patch_size,\n",
        "                 embedding_dim=embedding_dim,\n",
        "                 dropout=dropout,\n",
        "                 hidden_size=hidden_size,\n",
        "                 layers=layers,\n",
        "                 head=head,\n",
        "                 num_classes=num_classes):\n",
        "      super().__init__()\n",
        "\n",
        "      # patch embedding\n",
        "      self.patch_embedding = PatchEmbedding(in_channels=in_channels,\n",
        "                                           patch_size=patch_size,\n",
        "                                           embedding_dim=embedding_dim)\n",
        "      # class token\n",
        "      self.class_token = nn.Parameter(torch.randn(1,1,embedding_dim),\n",
        "                                      requires_grad=True)\n",
        "      # positional Embedding\n",
        "      num_patches = img_size**2 // patch_size**2\n",
        "      self.positional_embedding = nn.Parameter(torch.randn(1, num_patches+1, embedding_dim))\n",
        "\n",
        "      # Create Patch + Positional embedding\n",
        "      self.embedding_dropout = nn.Dropout(p=dropout)\n",
        "\n",
        "      # Create stack TransformerEncoder Layers\n",
        "      self.transformer_encoder = nn.TransformerEncoder(encoder_layer=nn.TransformerEncoderLayer(d_model=embedding_dim,\n",
        "                                                                                                nhead=head,\n",
        "                                                                                                dim_feedforward=hidden_size,\n",
        "                                                                                                activation=\"gelu\",\n",
        "                                                                                                batch_first=True,\n",
        "                                                                                                norm_first=True),\n",
        "                                                        num_layers=layers)\n",
        "      # MLP head\n",
        "      self.mlp_head = nn.Sequential(\n",
        "          nn.LayerNorm(normalized_shape=embedding_dim),\n",
        "          nn.Linear(in_features=embedding_dim,\n",
        "                    out_features=num_classes)\n",
        "      )\n",
        "\n",
        "    def forward(self,x):\n",
        "      # batch size\n",
        "      batch_size = x.shape[0]\n",
        "\n",
        "      # patch embedding\n",
        "      x = self.patch_embedding(x)\n",
        "\n",
        "      # expand class token\n",
        "      class_token = self.class_token.expand(batch_size,-1,-1)\n",
        "\n",
        "      # Prepend the class token to the patch embedding\n",
        "      x = torch.cat(( class_token,x), dim=1)\n",
        "\n",
        "      # add the positional embedding to patch embedding\n",
        "      x = self.positional_embedding + x\n",
        "\n",
        "      # dropout on patch\n",
        "      x = self.embedding_dropout(x)\n",
        "\n",
        "      # Pass embeding through transformer stack\n",
        "      x = self.transformer_encoder(x)\n",
        "\n",
        "      # pass 0th index of x through MLP head\n",
        "      x = self.mlp_head(x[:,0])\n",
        "\n",
        "      return x"
      ],
      "metadata": {
        "id": "4IVHKasWQlW8"
      },
      "execution_count": 155,
      "outputs": []
    },
    {
      "cell_type": "code",
      "source": [
        "# Create Vit\n",
        "vit = ViT(num_classes=num_classes).to(device)"
      ],
      "metadata": {
        "colab": {
          "base_uri": "https://localhost:8080/"
        },
        "id": "ztbtJ78vWorD",
        "outputId": "0021133e-a2a8-427e-8845-c62c1bddf15e"
      },
      "execution_count": 153,
      "outputs": [
        {
          "output_type": "stream",
          "name": "stderr",
          "text": [
            "/usr/local/lib/python3.10/dist-packages/torch/nn/init.py:405: UserWarning: Initializing zero-element tensors is a no-op\n",
            "  warnings.warn(\"Initializing zero-element tensors is a no-op\")\n"
          ]
        }
      ]
    },
    {
      "cell_type": "code",
      "source": [
        "summary(model=ViT(num_classes=3))"
      ],
      "metadata": {
        "colab": {
          "base_uri": "https://localhost:8080/"
        },
        "id": "NVNSgrQVYUKc",
        "outputId": "bffffd25-4ecc-44e0-97d9-456df8622944"
      },
      "execution_count": 135,
      "outputs": [
        {
          "output_type": "execute_result",
          "data": {
            "text/plain": [
              "==========================================================================================\n",
              "Layer (type:depth-idx)                                            Param #\n",
              "==========================================================================================\n",
              "ViT                                                               3,168\n",
              "├─PatchEmbedding: 1-1                                             --\n",
              "│    └─Conv2d: 2-1                                                2,352\n",
              "│    └─Flatten: 2-2                                               --\n",
              "├─Dropout: 1-2                                                    --\n",
              "├─TransformerEncoder: 1-3                                         --\n",
              "│    └─ModuleList: 2-3                                            --\n",
              "│    │    └─TransformerEncoderLayer: 3-1                          28,272\n",
              "│    │    └─TransformerEncoderLayer: 3-2                          28,272\n",
              "│    │    └─TransformerEncoderLayer: 3-3                          28,272\n",
              "│    │    └─TransformerEncoderLayer: 3-4                          28,272\n",
              "│    │    └─TransformerEncoderLayer: 3-5                          28,272\n",
              "│    │    └─TransformerEncoderLayer: 3-6                          28,272\n",
              "│    │    └─TransformerEncoderLayer: 3-7                          28,272\n",
              "│    │    └─TransformerEncoderLayer: 3-8                          28,272\n",
              "├─Sequential: 1-4                                                 --\n",
              "│    └─LayerNorm: 2-4                                             96\n",
              "│    └─Linear: 2-5                                                147\n",
              "==========================================================================================\n",
              "Total params: 231,939\n",
              "Trainable params: 231,939\n",
              "Non-trainable params: 0\n",
              "=========================================================================================="
            ]
          },
          "metadata": {},
          "execution_count": 135
        }
      ]
    },
    {
      "cell_type": "markdown",
      "source": [
        "## Training"
      ],
      "metadata": {
        "id": "BKFCT7C-aMCw"
      }
    },
    {
      "cell_type": "code",
      "source": [
        "# Create Vit\n",
        "vit = ViT(num_classes=num_classes).to(device)\n",
        "criterion = nn.CrossEntropyLoss()\n",
        "optimizer = optim.Adam(vit.parameters(), lr=0.0005)\n",
        "\n",
        "# Training loop\n",
        "for epoch in range(num_epochs):\n",
        "    # Initialize\n",
        "    batch_count= 0\n",
        "    total_loss = 0.0\n",
        "    correct_predictions = 0\n",
        "\n",
        "    # Train\n",
        "    vit.train()\n",
        "\n",
        "    # batch loop\n",
        "    for batch_idx, (data, target) in enumerate(train_loader):\n",
        "        batch_count=batch_count+1\n",
        "        optimizer.zero_grad()\n",
        "        output = vit(data)\n",
        "        loss = criterion(output, target)\n",
        "        loss.backward()\n",
        "        optimizer.step()\n",
        "\n",
        "        # Corect prediction count\n",
        "        _, predicted = output.max(1)\n",
        "        correct_predictions += predicted.eq(target).sum().item()\n",
        "\n",
        "        # Total Loss\n",
        "        total_loss += loss.item()\n",
        "\n",
        "    # Calculate training accuracy\n",
        "    training_accuracy = correct_predictions / len(train_loader.dataset)\n",
        "\n",
        "    # Print training progress including loss and accuracy for this epoch\n",
        "    print(f\"Epoch [{epoch+1}/{num_epochs}] Average_Loss: {total_loss/batch_count:.4f} Training Accuracy: {training_accuracy:.4f}\")"
      ],
      "metadata": {
        "id": "YAVkqV2NaVuQ"
      },
      "execution_count": null,
      "outputs": []
    },
    {
      "cell_type": "code",
      "source": [],
      "metadata": {
        "id": "EtiYdkA0c9Dx"
      },
      "execution_count": null,
      "outputs": []
    }
  ]
}